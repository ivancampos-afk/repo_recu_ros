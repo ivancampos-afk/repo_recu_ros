{
  "nbformat": 4,
  "nbformat_minor": 0,
  "metadata": {
    "colab": {
      "provenance": []
    },
    "kernelspec": {
      "name": "python3",
      "display_name": "Python 3"
    },
    "language_info": {
      "name": "python"
    }
  },
  "cells": [
    {
      "cell_type": "markdown",
      "source": [
        "brazo 1"
      ],
      "metadata": {
        "id": "H0gUgp-jGZlo"
      }
    },
    {
      "cell_type": "code",
      "source": [
        "import sympy as sp\n",
        "\n",
        "q1 = sp.symbols('q1')\n",
        "\n",
        "theta = q1\n",
        "d = 0\n",
        "a = 10\n",
        "alpha = 0\n",
        "A1 = sp.Matrix([\n",
        "    [sp.cos(theta), -sp.sin(theta)*sp.cos(alpha),  sp.sin(theta)*sp.sin(alpha), a*sp.cos(theta)],\n",
        "    [sp.sin(theta),  sp.cos(theta)*sp.cos(alpha), -sp.cos(theta)*sp.sin(alpha), a*sp.sin(theta)],\n",
        "    [0,              sp.sin(alpha),               sp.cos(alpha),                d],\n",
        "    [0,              0,                           0,                            1]\n",
        "])"
      ],
      "metadata": {
        "id": "RbgaF5F20NMs"
      },
      "execution_count": 68,
      "outputs": []
    },
    {
      "cell_type": "code",
      "source": [
        "import sympy as sp\n",
        "\n",
        "q2 = sp.symbols('q2')\n",
        "\n",
        "theta = q2\n",
        "d = 0\n",
        "a = 9\n",
        "alpha = 0\n",
        "\n",
        "A2 = sp.Matrix([\n",
        "    [sp.cos(theta), -sp.sin(theta)*sp.cos(alpha),  sp.sin(theta)*sp.sin(alpha), a*sp.cos(theta)],\n",
        "    [sp.sin(theta),  sp.cos(theta)*sp.cos(alpha), -sp.cos(theta)*sp.sin(alpha), a*sp.sin(theta)],\n",
        "    [0,              sp.sin(alpha),               sp.cos(alpha),                d],\n",
        "    [0,              0,                           0,                            1]\n",
        "])"
      ],
      "metadata": {
        "id": "N3Fl32T-0cVF"
      },
      "execution_count": 69,
      "outputs": []
    },
    {
      "cell_type": "code",
      "source": [
        "import sympy as sp\n",
        "\n",
        "q3 = sp.symbols('q3')\n",
        "\n",
        "theta = q3\n",
        "d = 0\n",
        "a = 4\n",
        "alpha = 0\n",
        "\n",
        "A3 = sp.Matrix([\n",
        "    [sp.cos(theta), -sp.sin(theta)*sp.cos(alpha),  sp.sin(theta)*sp.sin(alpha), a*sp.cos(theta)],\n",
        "    [sp.sin(theta),  sp.cos(theta)*sp.cos(alpha), -sp.cos(theta)*sp.sin(alpha), a*sp.sin(theta)],\n",
        "    [0,              sp.sin(alpha),               sp.cos(alpha),                d],\n",
        "    [0,              0,                           0,                            1]\n",
        "])"
      ],
      "metadata": {
        "id": "59SjnkS90piv"
      },
      "execution_count": 70,
      "outputs": []
    },
    {
      "cell_type": "markdown",
      "source": [
        "A1"
      ],
      "metadata": {
        "id": "ulP29g1DNoIA"
      }
    },
    {
      "cell_type": "code",
      "source": [
        "sp.pretty_print(A1)"
      ],
      "metadata": {
        "colab": {
          "base_uri": "https://localhost:8080/"
        },
        "id": "TTHfYAknNN--",
        "outputId": "72b1db1a-2c55-421c-d849-2aef3f8f1880"
      },
      "execution_count": 71,
      "outputs": [
        {
          "output_type": "stream",
          "name": "stdout",
          "text": [
            "⎡cos(q₁)  -sin(q₁)  0  10⋅cos(q₁)⎤\n",
            "⎢                                ⎥\n",
            "⎢sin(q₁)  cos(q₁)   0  10⋅sin(q₁)⎥\n",
            "⎢                                ⎥\n",
            "⎢   0        0      1      0     ⎥\n",
            "⎢                                ⎥\n",
            "⎣   0        0      0      1     ⎦\n"
          ]
        }
      ]
    },
    {
      "cell_type": "markdown",
      "source": [
        "A2"
      ],
      "metadata": {
        "id": "D0l8yDi_Nryh"
      }
    },
    {
      "cell_type": "code",
      "source": [
        "sp.pretty_print(A2)"
      ],
      "metadata": {
        "colab": {
          "base_uri": "https://localhost:8080/"
        },
        "outputId": "462e091c-e410-45d7-ba69-d2c6d523944f",
        "id": "iZujRUvWNbqT"
      },
      "execution_count": 72,
      "outputs": [
        {
          "output_type": "stream",
          "name": "stdout",
          "text": [
            "⎡cos(q₂)  -sin(q₂)  0  9⋅cos(q₂)⎤\n",
            "⎢                               ⎥\n",
            "⎢sin(q₂)  cos(q₂)   0  9⋅sin(q₂)⎥\n",
            "⎢                               ⎥\n",
            "⎢   0        0      1      0    ⎥\n",
            "⎢                               ⎥\n",
            "⎣   0        0      0      1    ⎦\n"
          ]
        }
      ]
    },
    {
      "cell_type": "markdown",
      "source": [
        "A3"
      ],
      "metadata": {
        "id": "8FrIHTl-Nwve"
      }
    },
    {
      "cell_type": "code",
      "source": [
        "sp.pretty_print(A3)"
      ],
      "metadata": {
        "colab": {
          "base_uri": "https://localhost:8080/"
        },
        "outputId": "1b7dc652-daa5-448f-88d9-0b67c08c4e5f",
        "id": "zq9Jtiq3Neiv"
      },
      "execution_count": 73,
      "outputs": [
        {
          "output_type": "stream",
          "name": "stdout",
          "text": [
            "⎡cos(q₃)  -sin(q₃)  0  4⋅cos(q₃)⎤\n",
            "⎢                               ⎥\n",
            "⎢sin(q₃)  cos(q₃)   0  4⋅sin(q₃)⎥\n",
            "⎢                               ⎥\n",
            "⎢   0        0      1      0    ⎥\n",
            "⎢                               ⎥\n",
            "⎣   0        0      0      1    ⎦\n"
          ]
        }
      ]
    },
    {
      "cell_type": "markdown",
      "source": [
        "MATRIZ DE TRANSFORMACION"
      ],
      "metadata": {
        "id": "dS6wTsvMF5AW"
      }
    },
    {
      "cell_type": "code",
      "source": [
        "T_13 = A1 @ A2 @ A3\n",
        "sp.pprint(sp.sympify(T_13), use_unicode=True)"
      ],
      "metadata": {
        "colab": {
          "base_uri": "https://localhost:8080/"
        },
        "id": "T2dLdkDaDD8S",
        "outputId": "d80ed027-cb4a-4209-8718-f4f401be37ac"
      },
      "execution_count": 74,
      "outputs": [
        {
          "output_type": "stream",
          "name": "stdout",
          "text": [
            "⎡(-sin(q₁)⋅sin(q₂) + cos(q₁)⋅cos(q₂))⋅cos(q₃) + (-sin(q₁)⋅cos(q₂) - sin(q₂)⋅co ↪\n",
            "⎢                                                                              ↪\n",
            "⎢(-sin(q₁)⋅sin(q₂) + cos(q₁)⋅cos(q₂))⋅sin(q₃) + (sin(q₁)⋅cos(q₂) + sin(q₂)⋅cos ↪\n",
            "⎢                                                                              ↪\n",
            "⎢                                             0                                ↪\n",
            "⎢                                                                              ↪\n",
            "⎣                                             0                                ↪\n",
            "\n",
            "↪ s(q₁))⋅sin(q₃)  -(-sin(q₁)⋅sin(q₂) + cos(q₁)⋅cos(q₂))⋅sin(q₃) + (-sin(q₁)⋅co ↪\n",
            "↪                                                                              ↪\n",
            "↪ (q₁))⋅cos(q₃)    (-sin(q₁)⋅sin(q₂) + cos(q₁)⋅cos(q₂))⋅cos(q₃) - (sin(q₁)⋅cos ↪\n",
            "↪                                                                              ↪\n",
            "↪                                                              0               ↪\n",
            "↪                                                                              ↪\n",
            "↪                                                              0               ↪\n",
            "\n",
            "↪ s(q₂) - sin(q₂)⋅cos(q₁))⋅cos(q₃)  0  4⋅(-sin(q₁)⋅sin(q₂) + cos(q₁)⋅cos(q₂))⋅ ↪\n",
            "↪                                                                              ↪\n",
            "↪ (q₂) + sin(q₂)⋅cos(q₁))⋅sin(q₃)   0  4⋅(-sin(q₁)⋅sin(q₂) + cos(q₁)⋅cos(q₂))⋅ ↪\n",
            "↪                                                                              ↪\n",
            "↪                                   1                                          ↪\n",
            "↪                                                                              ↪\n",
            "↪                                   0                                          ↪\n",
            "\n",
            "↪ cos(q₃) + 4⋅(-sin(q₁)⋅cos(q₂) - sin(q₂)⋅cos(q₁))⋅sin(q₃) - 9⋅sin(q₁)⋅sin(q₂) ↪\n",
            "↪                                                                              ↪\n",
            "↪ sin(q₃) + 4⋅(sin(q₁)⋅cos(q₂) + sin(q₂)⋅cos(q₁))⋅cos(q₃) + 9⋅sin(q₁)⋅cos(q₂)  ↪\n",
            "↪                                                                              ↪\n",
            "↪                                   0                                          ↪\n",
            "↪                                                                              ↪\n",
            "↪                                   1                                          ↪\n",
            "\n",
            "↪  + 9⋅cos(q₁)⋅cos(q₂) + 10⋅cos(q₁)⎤\n",
            "↪                                  ⎥\n",
            "↪ + 10⋅sin(q₁) + 9⋅sin(q₂)⋅cos(q₁) ⎥\n",
            "↪                                  ⎥\n",
            "↪                                  ⎥\n",
            "↪                                  ⎥\n",
            "↪                                  ⎦\n"
          ]
        }
      ]
    },
    {
      "cell_type": "code",
      "source": [
        "T_final = sp.simplify(T_13)"
      ],
      "metadata": {
        "id": "F5SjL92g1F3D"
      },
      "execution_count": 75,
      "outputs": []
    },
    {
      "cell_type": "markdown",
      "source": [
        "Position X:"
      ],
      "metadata": {
        "id": "xHoLzd1hGI2J"
      }
    },
    {
      "cell_type": "code",
      "source": [
        "T_final[0,3]"
      ],
      "metadata": {
        "colab": {
          "base_uri": "https://localhost:8080/",
          "height": 38
        },
        "id": "AgYUc7cxGo9f",
        "outputId": "5d3229f7-1418-4f10-9b3b-ccb5ee059cf1"
      },
      "execution_count": 76,
      "outputs": [
        {
          "output_type": "execute_result",
          "data": {
            "text/plain": [
              "10*cos(q1) + 9*cos(q1 + q2) + 4*cos(q1 + q2 + q3)"
            ],
            "text/latex": "$\\displaystyle 10 \\cos{\\left(q_{1} \\right)} + 9 \\cos{\\left(q_{1} + q_{2} \\right)} + 4 \\cos{\\left(q_{1} + q_{2} + q_{3} \\right)}$"
          },
          "metadata": {},
          "execution_count": 76
        }
      ]
    },
    {
      "cell_type": "markdown",
      "source": [
        "Position Y:"
      ],
      "metadata": {
        "id": "RfLhQVlJIJHT"
      }
    },
    {
      "cell_type": "code",
      "source": [
        "T_final[1,3]"
      ],
      "metadata": {
        "colab": {
          "base_uri": "https://localhost:8080/",
          "height": 38
        },
        "id": "kCXPeJsTIN9o",
        "outputId": "4e1cfce8-85a9-4db1-9aeb-d6dc2b259d19"
      },
      "execution_count": 77,
      "outputs": [
        {
          "output_type": "execute_result",
          "data": {
            "text/plain": [
              "10*sin(q1) + 9*sin(q1 + q2) + 4*sin(q1 + q2 + q3)"
            ],
            "text/latex": "$\\displaystyle 10 \\sin{\\left(q_{1} \\right)} + 9 \\sin{\\left(q_{1} + q_{2} \\right)} + 4 \\sin{\\left(q_{1} + q_{2} + q_{3} \\right)}$"
          },
          "metadata": {},
          "execution_count": 77
        }
      ]
    },
    {
      "cell_type": "markdown",
      "source": [
        "Posicion Z:"
      ],
      "metadata": {
        "id": "k_3oq6YXIQ2t"
      }
    },
    {
      "cell_type": "code",
      "source": [
        "T_final[2,3]"
      ],
      "metadata": {
        "colab": {
          "base_uri": "https://localhost:8080/",
          "height": 37
        },
        "id": "4f-q-lpnIToU",
        "outputId": "c8a5904e-8496-409e-a697-9bdfb0a634f7"
      },
      "execution_count": 78,
      "outputs": [
        {
          "output_type": "execute_result",
          "data": {
            "text/plain": [
              "0"
            ],
            "text/latex": "$\\displaystyle 0$"
          },
          "metadata": {},
          "execution_count": 78
        }
      ]
    },
    {
      "cell_type": "markdown",
      "source": [
        "JACOBIANO MATRIZ INVERSA"
      ],
      "metadata": {
        "id": "2Lzmp28cDn2i"
      }
    },
    {
      "cell_type": "code",
      "source": [
        "import sympy as sp\n",
        "\n",
        "# Extract the position vector from the transformation matrix T_final\n",
        "position_vector = T_final[:3, 3]\n",
        "\n",
        "# Calculate the Jacobian matrix\n",
        "J = sp.Matrix(position_vector).jacobian([q1, q2, q3])\n",
        "\n",
        "# Display the Jacobian matrix\n",
        "sp.pprint(sp.simplify(J), use_unicode=True)"
      ],
      "metadata": {
        "colab": {
          "base_uri": "https://localhost:8080/"
        },
        "id": "_akFYH8XDs6Q",
        "outputId": "373a56bd-d7be-4d5a-d8dd-7effd70ae8f7"
      },
      "execution_count": 79,
      "outputs": [
        {
          "output_type": "stream",
          "name": "stdout",
          "text": [
            "⎡-10⋅sin(q₁) - 9⋅sin(q₁ + q₂) - 4⋅sin(q₁ + q₂ + q₃)  -9⋅sin(q₁ + q₂) - 4⋅sin(q ↪\n",
            "⎢                                                                              ↪\n",
            "⎢10⋅cos(q₁) + 9⋅cos(q₁ + q₂) + 4⋅cos(q₁ + q₂ + q₃)   9⋅cos(q₁ + q₂) + 4⋅cos(q₁ ↪\n",
            "⎢                                                                              ↪\n",
            "⎣                        0                                             0       ↪\n",
            "\n",
            "↪ ₁ + q₂ + q₃)  -4⋅sin(q₁ + q₂ + q₃)⎤\n",
            "↪                                   ⎥\n",
            "↪  + q₂ + q₃)   4⋅cos(q₁ + q₂ + q₃) ⎥\n",
            "↪                                   ⎥\n",
            "↪                        0          ⎦\n"
          ]
        }
      ]
    },
    {
      "cell_type": "markdown",
      "source": [
        "MATRIZ JACOBIANA DE LOS ELEMENTOS"
      ],
      "metadata": {
        "id": "c4QF3nDQF84k"
      }
    },
    {
      "cell_type": "code",
      "source": [
        "\n",
        "j11 = J[0, 0]\n",
        "j12 = J[0, 1]\n",
        "j13 = J[0, 2]\n",
        "\n",
        "j21 = J[1, 0]\n",
        "j22 = J[1, 1]\n",
        "j23 = J[1, 2]\n",
        "\n",
        "j31 = J[2, 0]\n",
        "j32 = J[2, 1]\n",
        "j33 = J[2, 2]\n",
        "\n",
        "# Imprimir los valores\n",
        "print(\"j11 =\", j11)\n",
        "print(\"j12 =\", j12)\n",
        "print(\"j13 =\", j13)\n",
        "print(\"j21 =\", j21)\n",
        "print(\"j22 =\", j22)\n",
        "print(\"j23 =\", j23)\n",
        "print(\"j31 =\", j31)\n",
        "print(\"j32 =\", j32)\n",
        "print(\"j33 =\", j33)\n"
      ],
      "metadata": {
        "colab": {
          "base_uri": "https://localhost:8080/"
        },
        "id": "cxSuyxIAFrXb",
        "outputId": "749c6d10-944c-4ee3-c14c-76e6ebe3573d"
      },
      "execution_count": 80,
      "outputs": [
        {
          "output_type": "stream",
          "name": "stdout",
          "text": [
            "j11 = -10*sin(q1) - 9*sin(q1 + q2) - 4*sin(q1 + q2 + q3)\n",
            "j12 = -9*sin(q1 + q2) - 4*sin(q1 + q2 + q3)\n",
            "j13 = -4*sin(q1 + q2 + q3)\n",
            "j21 = 10*cos(q1) + 9*cos(q1 + q2) + 4*cos(q1 + q2 + q3)\n",
            "j22 = 9*cos(q1 + q2) + 4*cos(q1 + q2 + q3)\n",
            "j23 = 4*cos(q1 + q2 + q3)\n",
            "j31 = 0\n",
            "j32 = 0\n",
            "j33 = 0\n"
          ]
        }
      ]
    }
  ]
}