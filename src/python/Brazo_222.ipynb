{
  "nbformat": 4,
  "nbformat_minor": 0,
  "metadata": {
    "colab": {
      "provenance": []
    },
    "kernelspec": {
      "name": "python3",
      "display_name": "Python 3"
    },
    "language_info": {
      "name": "python"
    }
  },
  "cells": [
    {
      "cell_type": "markdown",
      "source": [
        "brazo 2"
      ],
      "metadata": {
        "id": "H0gUgp-jGZlo"
      }
    },
    {
      "cell_type": "code",
      "source": [
        "import sympy as sp\n",
        "\n",
        "q1 = sp.symbols('q1')\n",
        "\n",
        "theta = q1\n",
        "d = 5\n",
        "a = 7\n",
        "alpha = 0\n",
        "A1 = sp.Matrix([\n",
        "    [sp.cos(theta), -sp.sin(theta)*sp.cos(alpha),  sp.sin(theta)*sp.sin(alpha), a*sp.cos(theta)],\n",
        "    [sp.sin(theta),  sp.cos(theta)*sp.cos(alpha), -sp.cos(theta)*sp.sin(alpha), a*sp.sin(theta)],\n",
        "    [0,              sp.sin(alpha),               sp.cos(alpha),                d],\n",
        "    [0,              0,                           0,                            1]\n",
        "])"
      ],
      "metadata": {
        "id": "RbgaF5F20NMs"
      },
      "execution_count": 37,
      "outputs": []
    },
    {
      "cell_type": "code",
      "source": [
        "import sympy as sp\n",
        "\n",
        "q2 = sp.symbols('q2')\n",
        "\n",
        "theta = q2\n",
        "d = 0\n",
        "a = 5\n",
        "alpha = sp.pi\n",
        "\n",
        "A2 = sp.Matrix([\n",
        "    [sp.cos(theta), -sp.sin(theta)*sp.cos(alpha),  sp.sin(theta)*sp.sin(alpha), a*sp.cos(theta)],\n",
        "    [sp.sin(theta),  sp.cos(theta)*sp.cos(alpha), -sp.cos(theta)*sp.sin(alpha), a*sp.sin(theta)],\n",
        "    [0,              sp.sin(alpha),               sp.cos(alpha),                d],\n",
        "    [0,              0,                           0,                            1]\n",
        "])"
      ],
      "metadata": {
        "id": "N3Fl32T-0cVF"
      },
      "execution_count": 38,
      "outputs": []
    },
    {
      "cell_type": "code",
      "source": [
        "import sympy as sp\n",
        "\n",
        "q3 = sp.symbols('q3')\n",
        "\n",
        "theta = 0\n",
        "d = 4\n",
        "a = 0\n",
        "alpha = 0\n",
        "\n",
        "A3 = sp.Matrix([\n",
        "    [sp.cos(theta), -sp.sin(theta)*sp.cos(alpha),  sp.sin(theta)*sp.sin(alpha), a*sp.cos(theta)],\n",
        "    [sp.sin(theta),  sp.cos(theta)*sp.cos(alpha), -sp.cos(theta)*sp.sin(alpha), a*sp.sin(theta)],\n",
        "    [0,              sp.sin(alpha),               sp.cos(alpha),                d],\n",
        "    [0,              0,                           0,                            1]\n",
        "])"
      ],
      "metadata": {
        "id": "59SjnkS90piv"
      },
      "execution_count": 39,
      "outputs": []
    },
    {
      "cell_type": "markdown",
      "source": [
        "A1"
      ],
      "metadata": {
        "id": "ulP29g1DNoIA"
      }
    },
    {
      "cell_type": "code",
      "source": [
        "sp.pretty_print(A1)"
      ],
      "metadata": {
        "colab": {
          "base_uri": "https://localhost:8080/"
        },
        "id": "TTHfYAknNN--",
        "outputId": "122ecd78-8b89-488a-a741-73d7a856872a"
      },
      "execution_count": 40,
      "outputs": [
        {
          "output_type": "stream",
          "name": "stdout",
          "text": [
            "⎡cos(q₁)  -sin(q₁)  0  7⋅cos(q₁)⎤\n",
            "⎢                               ⎥\n",
            "⎢sin(q₁)  cos(q₁)   0  7⋅sin(q₁)⎥\n",
            "⎢                               ⎥\n",
            "⎢   0        0      1      5    ⎥\n",
            "⎢                               ⎥\n",
            "⎣   0        0      0      1    ⎦\n"
          ]
        }
      ]
    },
    {
      "cell_type": "markdown",
      "source": [
        "A2"
      ],
      "metadata": {
        "id": "D0l8yDi_Nryh"
      }
    },
    {
      "cell_type": "code",
      "source": [
        "sp.pretty_print(A2)"
      ],
      "metadata": {
        "colab": {
          "base_uri": "https://localhost:8080/"
        },
        "outputId": "78bbe2ee-2b4d-491d-ae64-fc9900025478",
        "id": "iZujRUvWNbqT"
      },
      "execution_count": 41,
      "outputs": [
        {
          "output_type": "stream",
          "name": "stdout",
          "text": [
            "⎡cos(q₂)  sin(q₂)   0   5⋅cos(q₂)⎤\n",
            "⎢                                ⎥\n",
            "⎢sin(q₂)  -cos(q₂)  0   5⋅sin(q₂)⎥\n",
            "⎢                                ⎥\n",
            "⎢   0        0      -1      0    ⎥\n",
            "⎢                                ⎥\n",
            "⎣   0        0      0       1    ⎦\n"
          ]
        }
      ]
    },
    {
      "cell_type": "markdown",
      "source": [
        "A3"
      ],
      "metadata": {
        "id": "8FrIHTl-Nwve"
      }
    },
    {
      "cell_type": "code",
      "source": [
        "sp.pretty_print(A3)"
      ],
      "metadata": {
        "colab": {
          "base_uri": "https://localhost:8080/"
        },
        "outputId": "28c44150-b2ce-49fc-ab34-e6fa836ff5b5",
        "id": "zq9Jtiq3Neiv"
      },
      "execution_count": 42,
      "outputs": [
        {
          "output_type": "stream",
          "name": "stdout",
          "text": [
            "⎡1  0  0  0⎤\n",
            "⎢          ⎥\n",
            "⎢0  1  0  0⎥\n",
            "⎢          ⎥\n",
            "⎢0  0  1  4⎥\n",
            "⎢          ⎥\n",
            "⎣0  0  0  1⎦\n"
          ]
        }
      ]
    },
    {
      "cell_type": "markdown",
      "source": [
        "MATRIZ DE TRANSFORMACION"
      ],
      "metadata": {
        "id": "dS6wTsvMF5AW"
      }
    },
    {
      "cell_type": "code",
      "source": [
        "T_13 = A1 @ A2 @ A3\n",
        "sp.pprint(sp.sympify(T_13), use_unicode=True)"
      ],
      "metadata": {
        "colab": {
          "base_uri": "https://localhost:8080/"
        },
        "id": "T2dLdkDaDD8S",
        "outputId": "2669d19b-9a34-4aa3-9641-42e769326bae"
      },
      "execution_count": 43,
      "outputs": [
        {
          "output_type": "stream",
          "name": "stdout",
          "text": [
            "⎡-sin(q₁)⋅sin(q₂) + cos(q₁)⋅cos(q₂)  sin(q₁)⋅cos(q₂) + sin(q₂)⋅cos(q₁)  0   -5 ↪\n",
            "⎢                                                                              ↪\n",
            "⎢sin(q₁)⋅cos(q₂) + sin(q₂)⋅cos(q₁)   sin(q₁)⋅sin(q₂) - cos(q₁)⋅cos(q₂)  0   5⋅ ↪\n",
            "⎢                                                                              ↪\n",
            "⎢                0                                   0                  -1     ↪\n",
            "⎢                                                                              ↪\n",
            "⎣                0                                   0                  0      ↪\n",
            "\n",
            "↪ ⋅sin(q₁)⋅sin(q₂) + 5⋅cos(q₁)⋅cos(q₂) + 7⋅cos(q₁)⎤\n",
            "↪                                                 ⎥\n",
            "↪ sin(q₁)⋅cos(q₂) + 7⋅sin(q₁) + 5⋅sin(q₂)⋅cos(q₁) ⎥\n",
            "↪                                                 ⎥\n",
            "↪                       1                         ⎥\n",
            "↪                                                 ⎥\n",
            "↪                       1                         ⎦\n"
          ]
        }
      ]
    },
    {
      "cell_type": "code",
      "source": [
        "T_final = sp.simplify(T_13)"
      ],
      "metadata": {
        "id": "F5SjL92g1F3D"
      },
      "execution_count": 44,
      "outputs": []
    },
    {
      "cell_type": "markdown",
      "source": [
        "Position X:"
      ],
      "metadata": {
        "id": "xHoLzd1hGI2J"
      }
    },
    {
      "cell_type": "code",
      "source": [
        "T_final[0,3]"
      ],
      "metadata": {
        "colab": {
          "base_uri": "https://localhost:8080/",
          "height": 38
        },
        "id": "AgYUc7cxGo9f",
        "outputId": "44f5ab7b-046c-43a3-ad3d-a5e4b4466bd8"
      },
      "execution_count": 45,
      "outputs": [
        {
          "output_type": "execute_result",
          "data": {
            "text/plain": [
              "7*cos(q1) + 5*cos(q1 + q2)"
            ],
            "text/latex": "$\\displaystyle 7 \\cos{\\left(q_{1} \\right)} + 5 \\cos{\\left(q_{1} + q_{2} \\right)}$"
          },
          "metadata": {},
          "execution_count": 45
        }
      ]
    },
    {
      "cell_type": "markdown",
      "source": [
        "Position Y:"
      ],
      "metadata": {
        "id": "RfLhQVlJIJHT"
      }
    },
    {
      "cell_type": "code",
      "source": [
        "T_final[1,3]"
      ],
      "metadata": {
        "colab": {
          "base_uri": "https://localhost:8080/",
          "height": 38
        },
        "id": "kCXPeJsTIN9o",
        "outputId": "1853d7e0-f671-415f-e4f7-0efc9bbab325"
      },
      "execution_count": 46,
      "outputs": [
        {
          "output_type": "execute_result",
          "data": {
            "text/plain": [
              "7*sin(q1) + 5*sin(q1 + q2)"
            ],
            "text/latex": "$\\displaystyle 7 \\sin{\\left(q_{1} \\right)} + 5 \\sin{\\left(q_{1} + q_{2} \\right)}$"
          },
          "metadata": {},
          "execution_count": 46
        }
      ]
    },
    {
      "cell_type": "markdown",
      "source": [
        "Posicion Z:"
      ],
      "metadata": {
        "id": "k_3oq6YXIQ2t"
      }
    },
    {
      "cell_type": "code",
      "source": [
        "T_final[2,3]"
      ],
      "metadata": {
        "colab": {
          "base_uri": "https://localhost:8080/",
          "height": 37
        },
        "id": "4f-q-lpnIToU",
        "outputId": "8dda9664-f451-459e-bc26-9950d3ffaea3"
      },
      "execution_count": 47,
      "outputs": [
        {
          "output_type": "execute_result",
          "data": {
            "text/plain": [
              "1"
            ],
            "text/latex": "$\\displaystyle 1$"
          },
          "metadata": {},
          "execution_count": 47
        }
      ]
    },
    {
      "cell_type": "markdown",
      "source": [
        "JACOBIANO MATRIZ INVERSA"
      ],
      "metadata": {
        "id": "2Lzmp28cDn2i"
      }
    },
    {
      "cell_type": "code",
      "source": [
        "import sympy as sp\n",
        "\n",
        "# Extract the position vector from the transformation matrix T_final\n",
        "position_vector = T_final[:3, 3]\n",
        "\n",
        "# Calculate the Jacobian matrix\n",
        "J = sp.Matrix(position_vector).jacobian([q1, q2, q3])\n",
        "\n",
        "# Display the Jacobian matrix\n",
        "sp.pprint(sp.simplify(J), use_unicode=True)"
      ],
      "metadata": {
        "colab": {
          "base_uri": "https://localhost:8080/"
        },
        "id": "_akFYH8XDs6Q",
        "outputId": "3f51a793-da14-4bd2-84b3-7497703411ae"
      },
      "execution_count": 48,
      "outputs": [
        {
          "output_type": "stream",
          "name": "stdout",
          "text": [
            "⎡-7⋅sin(q₁) - 5⋅sin(q₁ + q₂)  -5⋅sin(q₁ + q₂)  0⎤\n",
            "⎢                                               ⎥\n",
            "⎢7⋅cos(q₁) + 5⋅cos(q₁ + q₂)   5⋅cos(q₁ + q₂)   0⎥\n",
            "⎢                                               ⎥\n",
            "⎣             0                      0         0⎦\n"
          ]
        }
      ]
    },
    {
      "cell_type": "markdown",
      "source": [
        "MATRIZ JACOBIANA DE LOS ELEMENTOS"
      ],
      "metadata": {
        "id": "c4QF3nDQF84k"
      }
    },
    {
      "cell_type": "code",
      "source": [
        "\n",
        "j11 = J[0, 0]\n",
        "j12 = J[0, 1]\n",
        "j13 = J[0, 2]\n",
        "\n",
        "j21 = J[1, 0]\n",
        "j22 = J[1, 1]\n",
        "j23 = J[1, 2]\n",
        "\n",
        "j31 = J[2, 0]\n",
        "j32 = J[2, 1]\n",
        "j33 = J[2, 2]\n",
        "\n",
        "# Imprimir los valores\n",
        "print(\"j11 =\", j11)\n",
        "print(\"j12 =\", j12)\n",
        "print(\"j13 =\", j13)\n",
        "print(\"j21 =\", j21)\n",
        "print(\"j22 =\", j22)\n",
        "print(\"j23 =\", j23)\n",
        "print(\"j31 =\", j31)\n",
        "print(\"j32 =\", j32)\n",
        "print(\"j33 =\", j33)\n"
      ],
      "metadata": {
        "colab": {
          "base_uri": "https://localhost:8080/"
        },
        "id": "cxSuyxIAFrXb",
        "outputId": "1e324370-af39-4f20-9d87-fdb720c4eee6"
      },
      "execution_count": 49,
      "outputs": [
        {
          "output_type": "stream",
          "name": "stdout",
          "text": [
            "j11 = -7*sin(q1) - 5*sin(q1 + q2)\n",
            "j12 = -5*sin(q1 + q2)\n",
            "j13 = 0\n",
            "j21 = 7*cos(q1) + 5*cos(q1 + q2)\n",
            "j22 = 5*cos(q1 + q2)\n",
            "j23 = 0\n",
            "j31 = 0\n",
            "j32 = 0\n",
            "j33 = 0\n"
          ]
        }
      ]
    }
  ]
}